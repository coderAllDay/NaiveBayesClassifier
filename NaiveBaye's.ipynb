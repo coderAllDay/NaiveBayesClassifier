{
  "nbformat": 4,
  "nbformat_minor": 0,
  "metadata": {
    "colab": {
      "name": "NaiveBaye's.ipynb",
      "provenance": [],
      "collapsed_sections": [],
      "authorship_tag": "ABX9TyPh8i8EZY7XD/Q8kGrRf3AM",
      "include_colab_link": true
    },
    "kernelspec": {
      "name": "python3",
      "display_name": "Python 3"
    }
  },
  "cells": [
    {
      "cell_type": "markdown",
      "metadata": {
        "id": "view-in-github",
        "colab_type": "text"
      },
      "source": [
        "<a href=\"https://colab.research.google.com/github/coderAllDay/TwitterSentimentAnalysis/blob/master/NaiveBaye's.ipynb\" target=\"_parent\"><img src=\"https://colab.research.google.com/assets/colab-badge.svg\" alt=\"Open In Colab\"/></a>"
      ]
    },
    {
      "cell_type": "code",
      "metadata": {
        "id": "7eX8z8xa4q6Q",
        "colab_type": "code",
        "colab": {
          "base_uri": "https://localhost:8080/",
          "height": 71
        },
        "outputId": "a5cbc1cc-1702-4d04-f537-d68c55f883eb"
      },
      "source": [
        "import matplotlib \n",
        "%matplotlib inline\n",
        "%config InlineBackend.figure_format = 'svg'\n",
        "import matplotlib.pyplot as plt\n",
        "plt.style.use('ggplot')\n",
        "\n",
        "import numpy as np\n",
        "import pandas as pd\n",
        "import string\n",
        "\n",
        "from collections import defaultdict\n",
        "import seaborn as sns\n",
        "from sklearn.metrics import f1_score\n",
        "from sklearn.metrics import confusion_matrix\n",
        "from sklearn.naive_bayes import MultinomialNB\n",
        "from sklearn.feature_extraction.text import CountVectorizer\n",
        "\n",
        "import joblib\n",
        "import pickle as pkl"
      ],
      "execution_count": null,
      "outputs": [
        {
          "output_type": "stream",
          "text": [
            "/usr/local/lib/python3.6/dist-packages/statsmodels/tools/_testing.py:19: FutureWarning: pandas.util.testing is deprecated. Use the functions in the public API at pandas.testing instead.\n",
            "  import pandas.util.testing as tm\n"
          ],
          "name": "stderr"
        }
      ]
    },
    {
      "cell_type": "code",
      "metadata": {
        "id": "x9CzAkrhTJF8",
        "colab_type": "code",
        "colab": {}
      },
      "source": [
        "def open_file(filename):\n",
        "  with open(filename, 'r') as f:\n",
        "    data = f.readlines()\n",
        "  return data"
      ],
      "execution_count": null,
      "outputs": []
    },
    {
      "cell_type": "code",
      "metadata": {
        "id": "k6FtYzmEUQdM",
        "colab_type": "code",
        "colab": {}
      },
      "source": [
        "data_raw = dict()\n",
        "data_raw['sk'] = open_file('/content/slovak.txt')\n",
        "data_raw['cs'] = open_file('/content/czech.txt')\n",
        "data_raw['en'] = open_file('/content/english.txt')\n"
      ],
      "execution_count": null,
      "outputs": []
    },
    {
      "cell_type": "code",
      "metadata": {
        "id": "JrvUxed_fhSi",
        "colab_type": "code",
        "colab": {
          "base_uri": "https://localhost:8080/",
          "height": 54
        },
        "outputId": "e85582b1-3783-4074-ad87-a91ee31929cb"
      },
      "source": [
        "data_raw['en']"
      ],
      "execution_count": null,
      "outputs": [
        {
          "output_type": "execute_result",
          "data": {
            "text/plain": [
              "['While classified in the hound group or scent hound group in the United States and Great Britain, the breed has its own group in the countries which belong to the Fédération Cynologique Internationale (World Canine Federation). Many dachshunds, especially the wire-haired subtype, may exhibit behavior and appearance that are similar to that of the terrier group of dogs.']"
            ]
          },
          "metadata": {
            "tags": []
          },
          "execution_count": 7
        }
      ]
    },
    {
      "cell_type": "code",
      "metadata": {
        "id": "vBK5YPMbUZvr",
        "colab_type": "code",
        "colab": {}
      },
      "source": [
        "def show_statistics(data):\n",
        "  for language, sentences in data.items():\n",
        "    number_of_sentences = 0\n",
        "    number_of_words = 0\n",
        "    number_of_unique_words = 0\n",
        "    sample_extract = ''\n",
        "\n",
        "    word_list = ' '.join(sentences).split()\n",
        "\n",
        "    number_of_sentences = len(sentences)\n",
        "    number_of_words = len(word_list)\n",
        "    number_of_unique_words = len(set(word_list))\n",
        "    sample_extract = ' '.join(sentences[0].split()[0:7])\n",
        "    print(f'Language : {language}')\n",
        "    print('-----------------------')\n",
        "    print(f'Number of Sentences\\t:\\t {number_of_sentences}')\n",
        "    print(f'Number of words\\t\\t:\\t {number_of_words}')\n",
        "    print(f'Number of Unique Words\\t:\\t {number_of_unique_words}')\n",
        "    print(f'Number of Sample Extract\\t:\\t {sample_extract}.......\\n')\n"
      ],
      "execution_count": null,
      "outputs": []
    },
    {
      "cell_type": "code",
      "metadata": {
        "id": "t382svM9eQDD",
        "colab_type": "code",
        "colab": {
          "base_uri": "https://localhost:8080/",
          "height": 374
        },
        "outputId": "988f074c-8c86-4382-93fd-99b86c140759"
      },
      "source": [
        "show_statistics(data_raw)"
      ],
      "execution_count": null,
      "outputs": [
        {
          "output_type": "stream",
          "text": [
            "Language : sk\n",
            "-----------------------\n",
            "Number of Sentences\t:\t 1\n",
            "Number of words\t\t:\t 62\n",
            "Number of Unique Words\t:\t 58\n",
            "Number of Sample Extract\t:\t Mnohí \\u013eudia, ktorí vidia na ulici jazve\\u010díka.......\n",
            "\n",
            "Language : cs\n",
            "-----------------------\n",
            "Number of Sentences\t:\t 1\n",
            "Number of words\t\t:\t 61\n",
            "Number of Unique Words\t:\t 51\n",
            "Number of Sample Extract\t:\t ﻿Ãpln\\u011b prvnÃ­ zmÃ­nky o psech podobnÃ½ch dne\\u0161nÃ­m.......\n",
            "\n",
            "Language : en\n",
            "-----------------------\n",
            "Number of Sentences\t:\t 1\n",
            "Number of words\t\t:\t 58\n",
            "Number of Unique Words\t:\t 42\n",
            "Number of Sample Extract\t:\t While classified in the hound group or.......\n",
            "\n"
          ],
          "name": "stdout"
        }
      ]
    },
    {
      "cell_type": "code",
      "metadata": {
        "id": "38-ZlDtvgOWw",
        "colab_type": "code",
        "colab": {}
      },
      "source": [
        "def preprocess(text):\n",
        "  preprocessed_text = text\n",
        "  preprocessed_text = text.lower().replace('-', ' ')\n",
        "  translation_table = str.maketrans('\\n', ' ', string.punctuation + string.digits)\n",
        "  preprocessed_text = preprocessed_text.translate(translation_table)\n",
        "  return preprocessed_text"
      ],
      "execution_count": null,
      "outputs": []
    },
    {
      "cell_type": "code",
      "metadata": {
        "id": "CSBXpObShUFT",
        "colab_type": "code",
        "colab": {
          "base_uri": "https://localhost:8080/",
          "height": 35
        },
        "outputId": "8c1b0397-3db3-434f-e0cc-6c3ba8cd9538"
      },
      "source": [
        "string.punctuation"
      ],
      "execution_count": null,
      "outputs": [
        {
          "output_type": "execute_result",
          "data": {
            "application/vnd.google.colaboratory.intrinsic": {
              "type": "string"
            },
            "text/plain": [
              "'!\"#$%&\\'()*+,-./:;<=>?@[\\\\]^_`{|}~'"
            ]
          },
          "metadata": {
            "tags": []
          },
          "execution_count": 13
        }
      ]
    },
    {
      "cell_type": "code",
      "metadata": {
        "id": "7EqUD8HahGF0",
        "colab_type": "code",
        "colab": {}
      },
      "source": [
        "data_preprocessed = {k : [preprocess(sentence) for sentence in v] for k, v in data_raw.items()}"
      ],
      "execution_count": null,
      "outputs": []
    },
    {
      "cell_type": "code",
      "metadata": {
        "id": "b-Fauh8PhRRe",
        "colab_type": "code",
        "colab": {
          "base_uri": "https://localhost:8080/",
          "height": 782
        },
        "outputId": "eeac1294-16f6-4b2f-aad7-d8950857de97"
      },
      "source": [
        "print('Raw Data')\n",
        "show_statistics(data_raw)\n",
        "\n",
        "print('\\nPreprocessed')\n",
        "show_statistics(data_preprocessed)"
      ],
      "execution_count": null,
      "outputs": [
        {
          "output_type": "stream",
          "text": [
            "Raw Data\n",
            "Language : sk\n",
            "-----------------------\n",
            "Number of Sentences\t:\t 1\n",
            "Number of words\t\t:\t 62\n",
            "Number of Unique Words\t:\t 58\n",
            "Number of Sample Extract\t:\t Mnohí \\u013eudia, ktorí vidia na ulici jazve\\u010díka.......\n",
            "\n",
            "Language : cs\n",
            "-----------------------\n",
            "Number of Sentences\t:\t 1\n",
            "Number of words\t\t:\t 61\n",
            "Number of Unique Words\t:\t 51\n",
            "Number of Sample Extract\t:\t ﻿Ãpln\\u011b prvnÃ­ zmÃ­nky o psech podobnÃ½ch dne\\u0161nÃ­m.......\n",
            "\n",
            "Language : en\n",
            "-----------------------\n",
            "Number of Sentences\t:\t 1\n",
            "Number of words\t\t:\t 58\n",
            "Number of Unique Words\t:\t 42\n",
            "Number of Sample Extract\t:\t While classified in the hound group or.......\n",
            "\n",
            "\n",
            "Preprocessed\n",
            "Language : sk\n",
            "-----------------------\n",
            "Number of Sentences\t:\t 1\n",
            "Number of words\t\t:\t 62\n",
            "Number of Unique Words\t:\t 56\n",
            "Number of Sample Extract\t:\t mnohí ueudia ktorí vidia na ulici jazveudíka.......\n",
            "\n",
            "Language : cs\n",
            "-----------------------\n",
            "Number of Sentences\t:\t 1\n",
            "Number of words\t\t:\t 58\n",
            "Number of Unique Words\t:\t 48\n",
            "Number of Sample Extract\t:\t ﻿ãplnub prvnã­ zmã­nky o psech podobnã½ch dneunã­m.......\n",
            "\n",
            "Language : en\n",
            "-----------------------\n",
            "Number of Sentences\t:\t 1\n",
            "Number of words\t\t:\t 59\n",
            "Number of Unique Words\t:\t 43\n",
            "Number of Sample Extract\t:\t while classified in the hound group or.......\n",
            "\n"
          ],
          "name": "stdout"
        }
      ]
    },
    {
      "cell_type": "code",
      "metadata": {
        "id": "CtFLXYb7hjae",
        "colab_type": "code",
        "colab": {}
      },
      "source": [
        "sentences_train, y_train = [], []\n",
        "for k, v in data_preprocessed.items():\n",
        "  for sentence in v:\n",
        "    sentences_train.append(sentence)\n",
        "    y_train.append(k)"
      ],
      "execution_count": null,
      "outputs": []
    },
    {
      "cell_type": "code",
      "metadata": {
        "id": "0rX9h3kzjhZp",
        "colab_type": "code",
        "colab": {}
      },
      "source": [
        "vectorizer = CountVectorizer()\n",
        "X_train = vectorizer.fit_transform(sentences_train)"
      ],
      "execution_count": null,
      "outputs": []
    },
    {
      "cell_type": "code",
      "metadata": {
        "id": "6hYiPDQQjryA",
        "colab_type": "code",
        "colab": {
          "base_uri": "https://localhost:8080/",
          "height": 34
        },
        "outputId": "c6294d04-c374-42f3-ce9e-94a7adffd919"
      },
      "source": [
        "naive_classifier = MultinomialNB()\n",
        "naive_classifier.fit(X_train, y_train)"
      ],
      "execution_count": null,
      "outputs": [
        {
          "output_type": "execute_result",
          "data": {
            "text/plain": [
              "MultinomialNB(alpha=1.0, class_prior=None, fit_prior=True)"
            ]
          },
          "metadata": {
            "tags": []
          },
          "execution_count": 18
        }
      ]
    },
    {
      "cell_type": "code",
      "metadata": {
        "id": "Xl1owyXwoFNA",
        "colab_type": "code",
        "colab": {}
      },
      "source": [
        "data_val = dict()\n",
        "data_val['sk'] = open_file('/content/slovak_val..txt')\n",
        "data_val['cs'] = open_file('/content/czech_val.txt')\n",
        "data_val['cs'] = open_file('/content/english_val.txt')\n"
      ],
      "execution_count": null,
      "outputs": []
    },
    {
      "cell_type": "code",
      "metadata": {
        "id": "l8xhMueOrUB_",
        "colab_type": "code",
        "colab": {}
      },
      "source": [
        "data_val_preprocessed = {k : [preprocess(sentence) for sentence in v] for k, v in data_val.items()}"
      ],
      "execution_count": null,
      "outputs": []
    },
    {
      "cell_type": "code",
      "metadata": {
        "id": "kJIxVWovrhl4",
        "colab_type": "code",
        "colab": {}
      },
      "source": [
        "sentences_val, y_val = [], []\n",
        "for k, v in data_val_preprocessed.items():\n",
        "  for sentence in v:\n",
        "    sentences_val.append(sentence)\n",
        "    y_val.append(k)"
      ],
      "execution_count": null,
      "outputs": []
    },
    {
      "cell_type": "code",
      "metadata": {
        "id": "dfS0flKzsUyF",
        "colab_type": "code",
        "colab": {}
      },
      "source": [
        "X_val = vectorizer.transform(sentences_val)"
      ],
      "execution_count": null,
      "outputs": []
    },
    {
      "cell_type": "code",
      "metadata": {
        "id": "2sx7eaJvr2Tu",
        "colab_type": "code",
        "colab": {}
      },
      "source": [
        "predictions = naive_classifier.predict(X_val)"
      ],
      "execution_count": null,
      "outputs": []
    },
    {
      "cell_type": "code",
      "metadata": {
        "id": "h2izXhlMC2CE",
        "colab_type": "code",
        "colab": {
          "base_uri": "https://localhost:8080/",
          "height": 519
        },
        "outputId": "a20fec51-5501-4416-8a21-4aeb9a221740"
      },
      "source": [
        "cm = confusion_matrix(y_val, predictions, ['sk', 'cs', 'en'])\n",
        "index = ['sk', 'cs', 'en']\n",
        "columns = ['sk', 'cs', 'en']\n",
        "cm_df = pd.DataFrame(cm, columns, index)\n",
        "plt.figure(figsize=(10,6))  \n",
        "sns.heatmap(cm_df, annot=True)"
      ],
      "execution_count": null,
      "outputs": [
        {
          "output_type": "execute_result",
          "data": {
            "text/plain": [
              "<matplotlib.axes._subplots.AxesSubplot at 0x7fde936c3128>"
            ]
          },
          "metadata": {
            "tags": []
          },
          "execution_count": 24
        },
        {
          "output_type": "display_data",
          "data": {
            "text/plain": [
              "<Figure size 720x432 with 2 Axes>"
            ],
            "image/svg+xml": "<?xml version=\"1.0\" encoding=\"utf-8\" standalone=\"no\"?>\n<!DOCTYPE svg PUBLIC \"-//W3C//DTD SVG 1.1//EN\"\n  \"http://www.w3.org/Graphics/SVG/1.1/DTD/svg11.dtd\">\n<!-- Created with matplotlib (https://matplotlib.org/) -->\n<svg height=\"361.037344pt\" version=\"1.1\" viewBox=\"0 0 544.58925 361.037344\" width=\"544.58925pt\" xmlns=\"http://www.w3.org/2000/svg\" xmlns:xlink=\"http://www.w3.org/1999/xlink\">\n <defs>\n  <style type=\"text/css\">\n*{stroke-linecap:butt;stroke-linejoin:round;}\n  </style>\n </defs>\n <g id=\"figure_1\">\n  <g id=\"patch_1\">\n   <path d=\"M 0 361.037344 \nL 544.58925 361.037344 \nL 544.58925 0 \nL 0 0 \nz\n\" style=\"fill:#ffffff;\"/>\n  </g>\n  <g id=\"axes_1\">\n   <g id=\"patch_2\">\n    <path d=\"M 23.878125 337.159219 \nL 470.278125 337.159219 \nL 470.278125 10.999219 \nL 23.878125 10.999219 \nz\n\" style=\"fill:#e5e5e5;\"/>\n   </g>\n   <g id=\"matplotlib.axis_1\">\n    <g id=\"xtick_1\">\n     <g id=\"line2d_1\">\n      <defs>\n       <path d=\"M 0 0 \nL 0 3.5 \n\" id=\"m286e1a6421\" style=\"stroke:#555555;stroke-width:0.8;\"/>\n      </defs>\n      <g>\n       <use style=\"fill:#555555;stroke:#555555;stroke-width:0.8;\" x=\"98.278125\" xlink:href=\"#m286e1a6421\" y=\"337.159219\"/>\n      </g>\n     </g>\n     <g id=\"text_1\">\n      <!-- sk -->\n      <defs>\n       <path d=\"M 44.28125 53.078125 \nL 44.28125 44.578125 \nQ 40.484375 46.53125 36.375 47.5 \nQ 32.28125 48.484375 27.875 48.484375 \nQ 21.1875 48.484375 17.84375 46.4375 \nQ 14.5 44.390625 14.5 40.28125 \nQ 14.5 37.15625 16.890625 35.375 \nQ 19.28125 33.59375 26.515625 31.984375 \nL 29.59375 31.296875 \nQ 39.15625 29.25 43.1875 25.515625 \nQ 47.21875 21.78125 47.21875 15.09375 \nQ 47.21875 7.46875 41.1875 3.015625 \nQ 35.15625 -1.421875 24.609375 -1.421875 \nQ 20.21875 -1.421875 15.453125 -0.5625 \nQ 10.6875 0.296875 5.421875 2 \nL 5.421875 11.28125 \nQ 10.40625 8.6875 15.234375 7.390625 \nQ 20.0625 6.109375 24.8125 6.109375 \nQ 31.15625 6.109375 34.5625 8.28125 \nQ 37.984375 10.453125 37.984375 14.40625 \nQ 37.984375 18.0625 35.515625 20.015625 \nQ 33.0625 21.96875 24.703125 23.78125 \nL 21.578125 24.515625 \nQ 13.234375 26.265625 9.515625 29.90625 \nQ 5.8125 33.546875 5.8125 39.890625 \nQ 5.8125 47.609375 11.28125 51.796875 \nQ 16.75 56 26.8125 56 \nQ 31.78125 56 36.171875 55.265625 \nQ 40.578125 54.546875 44.28125 53.078125 \nz\n\" id=\"DejaVuSans-115\"/>\n       <path d=\"M 9.078125 75.984375 \nL 18.109375 75.984375 \nL 18.109375 31.109375 \nL 44.921875 54.6875 \nL 56.390625 54.6875 \nL 27.390625 29.109375 \nL 57.625 0 \nL 45.90625 0 \nL 18.109375 26.703125 \nL 18.109375 0 \nL 9.078125 0 \nz\n\" id=\"DejaVuSans-107\"/>\n      </defs>\n      <g style=\"fill:#555555;\" transform=\"translate(92.778125 351.757656)scale(0.1 -0.1)\">\n       <use xlink:href=\"#DejaVuSans-115\"/>\n       <use x=\"52.099609\" xlink:href=\"#DejaVuSans-107\"/>\n      </g>\n     </g>\n    </g>\n    <g id=\"xtick_2\">\n     <g id=\"line2d_2\">\n      <g>\n       <use style=\"fill:#555555;stroke:#555555;stroke-width:0.8;\" x=\"247.078125\" xlink:href=\"#m286e1a6421\" y=\"337.159219\"/>\n      </g>\n     </g>\n     <g id=\"text_2\">\n      <!-- cs -->\n      <defs>\n       <path d=\"M 48.78125 52.59375 \nL 48.78125 44.1875 \nQ 44.96875 46.296875 41.140625 47.34375 \nQ 37.3125 48.390625 33.40625 48.390625 \nQ 24.65625 48.390625 19.8125 42.84375 \nQ 14.984375 37.3125 14.984375 27.296875 \nQ 14.984375 17.28125 19.8125 11.734375 \nQ 24.65625 6.203125 33.40625 6.203125 \nQ 37.3125 6.203125 41.140625 7.25 \nQ 44.96875 8.296875 48.78125 10.40625 \nL 48.78125 2.09375 \nQ 45.015625 0.34375 40.984375 -0.53125 \nQ 36.96875 -1.421875 32.421875 -1.421875 \nQ 20.0625 -1.421875 12.78125 6.34375 \nQ 5.515625 14.109375 5.515625 27.296875 \nQ 5.515625 40.671875 12.859375 48.328125 \nQ 20.21875 56 33.015625 56 \nQ 37.15625 56 41.109375 55.140625 \nQ 45.0625 54.296875 48.78125 52.59375 \nz\n\" id=\"DejaVuSans-99\"/>\n      </defs>\n      <g style=\"fill:#555555;\" transform=\"translate(241.724219 351.757656)scale(0.1 -0.1)\">\n       <use xlink:href=\"#DejaVuSans-99\"/>\n       <use x=\"54.980469\" xlink:href=\"#DejaVuSans-115\"/>\n      </g>\n     </g>\n    </g>\n    <g id=\"xtick_3\">\n     <g id=\"line2d_3\">\n      <g>\n       <use style=\"fill:#555555;stroke:#555555;stroke-width:0.8;\" x=\"395.878125\" xlink:href=\"#m286e1a6421\" y=\"337.159219\"/>\n      </g>\n     </g>\n     <g id=\"text_3\">\n      <!-- en -->\n      <defs>\n       <path d=\"M 56.203125 29.59375 \nL 56.203125 25.203125 \nL 14.890625 25.203125 \nQ 15.484375 15.921875 20.484375 11.0625 \nQ 25.484375 6.203125 34.421875 6.203125 \nQ 39.59375 6.203125 44.453125 7.46875 \nQ 49.3125 8.734375 54.109375 11.28125 \nL 54.109375 2.78125 \nQ 49.265625 0.734375 44.1875 -0.34375 \nQ 39.109375 -1.421875 33.890625 -1.421875 \nQ 20.796875 -1.421875 13.15625 6.1875 \nQ 5.515625 13.8125 5.515625 26.8125 \nQ 5.515625 40.234375 12.765625 48.109375 \nQ 20.015625 56 32.328125 56 \nQ 43.359375 56 49.78125 48.890625 \nQ 56.203125 41.796875 56.203125 29.59375 \nz\nM 47.21875 32.234375 \nQ 47.125 39.59375 43.09375 43.984375 \nQ 39.0625 48.390625 32.421875 48.390625 \nQ 24.90625 48.390625 20.390625 44.140625 \nQ 15.875 39.890625 15.1875 32.171875 \nz\n\" id=\"DejaVuSans-101\"/>\n       <path d=\"M 54.890625 33.015625 \nL 54.890625 0 \nL 45.90625 0 \nL 45.90625 32.71875 \nQ 45.90625 40.484375 42.875 44.328125 \nQ 39.84375 48.1875 33.796875 48.1875 \nQ 26.515625 48.1875 22.3125 43.546875 \nQ 18.109375 38.921875 18.109375 30.90625 \nL 18.109375 0 \nL 9.078125 0 \nL 9.078125 54.6875 \nL 18.109375 54.6875 \nL 18.109375 46.1875 \nQ 21.34375 51.125 25.703125 53.5625 \nQ 30.078125 56 35.796875 56 \nQ 45.21875 56 50.046875 50.171875 \nQ 54.890625 44.34375 54.890625 33.015625 \nz\n\" id=\"DejaVuSans-110\"/>\n      </defs>\n      <g style=\"fill:#555555;\" transform=\"translate(389.632812 351.757656)scale(0.1 -0.1)\">\n       <use xlink:href=\"#DejaVuSans-101\"/>\n       <use x=\"61.523438\" xlink:href=\"#DejaVuSans-110\"/>\n      </g>\n     </g>\n    </g>\n   </g>\n   <g id=\"matplotlib.axis_2\">\n    <g id=\"ytick_1\">\n     <g id=\"line2d_4\">\n      <defs>\n       <path d=\"M 0 0 \nL -3.5 0 \n\" id=\"m3e8db4e420\" style=\"stroke:#555555;stroke-width:0.8;\"/>\n      </defs>\n      <g>\n       <use style=\"fill:#555555;stroke:#555555;stroke-width:0.8;\" x=\"23.878125\" xlink:href=\"#m3e8db4e420\" y=\"65.359219\"/>\n      </g>\n     </g>\n     <g id=\"text_4\">\n      <!-- sk -->\n      <g style=\"fill:#555555;\" transform=\"translate(14.798437 72.56)rotate(-90)scale(0.1 -0.1)\">\n       <use xlink:href=\"#DejaVuSans-115\"/>\n       <use x=\"52.099609\" xlink:href=\"#DejaVuSans-107\"/>\n      </g>\n     </g>\n    </g>\n    <g id=\"ytick_2\">\n     <g id=\"line2d_5\">\n      <g>\n       <use style=\"fill:#555555;stroke:#555555;stroke-width:0.8;\" x=\"23.878125\" xlink:href=\"#m3e8db4e420\" y=\"174.079219\"/>\n      </g>\n     </g>\n     <g id=\"text_5\">\n      <!-- cs -->\n      <g style=\"fill:#555555;\" transform=\"translate(14.798437 180.987812)rotate(-90)scale(0.1 -0.1)\">\n       <use xlink:href=\"#DejaVuSans-99\"/>\n       <use x=\"54.980469\" xlink:href=\"#DejaVuSans-115\"/>\n      </g>\n     </g>\n    </g>\n    <g id=\"ytick_3\">\n     <g id=\"line2d_6\">\n      <g>\n       <use style=\"fill:#555555;stroke:#555555;stroke-width:0.8;\" x=\"23.878125\" xlink:href=\"#m3e8db4e420\" y=\"282.799219\"/>\n      </g>\n     </g>\n     <g id=\"text_6\">\n      <!-- en -->\n      <g style=\"fill:#555555;\" transform=\"translate(14.798437 291.490625)rotate(-90)scale(0.1 -0.1)\">\n       <use xlink:href=\"#DejaVuSans-101\"/>\n       <use x=\"61.523438\" xlink:href=\"#DejaVuSans-110\"/>\n      </g>\n     </g>\n    </g>\n   </g>\n   <g id=\"QuadMesh_1\">\n    <path clip-path=\"url(#p0d8b3cbaf4)\" d=\"M 23.878125 10.999219 \nL 172.678125 10.999219 \nL 172.678125 119.719219 \nL 23.878125 119.719219 \nL 23.878125 10.999219 \n\" style=\"fill:#03051a;\"/>\n    <path clip-path=\"url(#p0d8b3cbaf4)\" d=\"M 172.678125 10.999219 \nL 321.478125 10.999219 \nL 321.478125 119.719219 \nL 172.678125 119.719219 \nL 172.678125 10.999219 \n\" style=\"fill:#841e5a;\"/>\n    <path clip-path=\"url(#p0d8b3cbaf4)\" d=\"M 321.478125 10.999219 \nL 470.278125 10.999219 \nL 470.278125 119.719219 \nL 321.478125 119.719219 \nL 321.478125 10.999219 \n\" style=\"fill:#03051a;\"/>\n    <path clip-path=\"url(#p0d8b3cbaf4)\" d=\"M 23.878125 119.719219 \nL 172.678125 119.719219 \nL 172.678125 228.439219 \nL 23.878125 228.439219 \nL 23.878125 119.719219 \n\" style=\"fill:#03051a;\"/>\n    <path clip-path=\"url(#p0d8b3cbaf4)\" d=\"M 172.678125 119.719219 \nL 321.478125 119.719219 \nL 321.478125 228.439219 \nL 172.678125 228.439219 \nL 172.678125 119.719219 \n\" style=\"fill:#f06043;\"/>\n    <path clip-path=\"url(#p0d8b3cbaf4)\" d=\"M 321.478125 119.719219 \nL 470.278125 119.719219 \nL 470.278125 228.439219 \nL 321.478125 228.439219 \nL 321.478125 119.719219 \n\" style=\"fill:#faebdd;\"/>\n    <path clip-path=\"url(#p0d8b3cbaf4)\" d=\"M 23.878125 228.439219 \nL 172.678125 228.439219 \nL 172.678125 337.159219 \nL 23.878125 337.159219 \nL 23.878125 228.439219 \n\" style=\"fill:#03051a;\"/>\n    <path clip-path=\"url(#p0d8b3cbaf4)\" d=\"M 172.678125 228.439219 \nL 321.478125 228.439219 \nL 321.478125 337.159219 \nL 172.678125 337.159219 \nL 172.678125 228.439219 \n\" style=\"fill:#03051a;\"/>\n    <path clip-path=\"url(#p0d8b3cbaf4)\" d=\"M 321.478125 228.439219 \nL 470.278125 228.439219 \nL 470.278125 337.159219 \nL 321.478125 337.159219 \nL 321.478125 228.439219 \n\" style=\"fill:#03051a;\"/>\n   </g>\n   <g id=\"text_7\">\n    <!-- 0 -->\n    <defs>\n     <path d=\"M 31.78125 66.40625 \nQ 24.171875 66.40625 20.328125 58.90625 \nQ 16.5 51.421875 16.5 36.375 \nQ 16.5 21.390625 20.328125 13.890625 \nQ 24.171875 6.390625 31.78125 6.390625 \nQ 39.453125 6.390625 43.28125 13.890625 \nQ 47.125 21.390625 47.125 36.375 \nQ 47.125 51.421875 43.28125 58.90625 \nQ 39.453125 66.40625 31.78125 66.40625 \nz\nM 31.78125 74.21875 \nQ 44.046875 74.21875 50.515625 64.515625 \nQ 56.984375 54.828125 56.984375 36.375 \nQ 56.984375 17.96875 50.515625 8.265625 \nQ 44.046875 -1.421875 31.78125 -1.421875 \nQ 19.53125 -1.421875 13.0625 8.265625 \nQ 6.59375 17.96875 6.59375 36.375 \nQ 6.59375 54.828125 13.0625 64.515625 \nQ 19.53125 74.21875 31.78125 74.21875 \nz\n\" id=\"DejaVuSans-48\"/>\n    </defs>\n    <g style=\"fill:#ffffff;\" transform=\"translate(95.096875 68.118594)scale(0.1 -0.1)\">\n     <use xlink:href=\"#DejaVuSans-48\"/>\n    </g>\n   </g>\n   <g id=\"text_8\">\n    <!-- 1 -->\n    <defs>\n     <path d=\"M 12.40625 8.296875 \nL 28.515625 8.296875 \nL 28.515625 63.921875 \nL 10.984375 60.40625 \nL 10.984375 69.390625 \nL 28.421875 72.90625 \nL 38.28125 72.90625 \nL 38.28125 8.296875 \nL 54.390625 8.296875 \nL 54.390625 0 \nL 12.40625 0 \nz\n\" id=\"DejaVuSans-49\"/>\n    </defs>\n    <g style=\"fill:#ffffff;\" transform=\"translate(243.896875 68.118594)scale(0.1 -0.1)\">\n     <use xlink:href=\"#DejaVuSans-49\"/>\n    </g>\n   </g>\n   <g id=\"text_9\">\n    <!-- 0 -->\n    <g style=\"fill:#ffffff;\" transform=\"translate(392.696875 68.118594)scale(0.1 -0.1)\">\n     <use xlink:href=\"#DejaVuSans-48\"/>\n    </g>\n   </g>\n   <g id=\"text_10\">\n    <!-- 0 -->\n    <g style=\"fill:#ffffff;\" transform=\"translate(95.096875 176.838594)scale(0.1 -0.1)\">\n     <use xlink:href=\"#DejaVuSans-48\"/>\n    </g>\n   </g>\n   <g id=\"text_11\">\n    <!-- 2 -->\n    <defs>\n     <path d=\"M 19.1875 8.296875 \nL 53.609375 8.296875 \nL 53.609375 0 \nL 7.328125 0 \nL 7.328125 8.296875 \nQ 12.9375 14.109375 22.625 23.890625 \nQ 32.328125 33.6875 34.8125 36.53125 \nQ 39.546875 41.84375 41.421875 45.53125 \nQ 43.3125 49.21875 43.3125 52.78125 \nQ 43.3125 58.59375 39.234375 62.25 \nQ 35.15625 65.921875 28.609375 65.921875 \nQ 23.96875 65.921875 18.8125 64.3125 \nQ 13.671875 62.703125 7.8125 59.421875 \nL 7.8125 69.390625 \nQ 13.765625 71.78125 18.9375 73 \nQ 24.125 74.21875 28.421875 74.21875 \nQ 39.75 74.21875 46.484375 68.546875 \nQ 53.21875 62.890625 53.21875 53.421875 \nQ 53.21875 48.921875 51.53125 44.890625 \nQ 49.859375 40.875 45.40625 35.40625 \nQ 44.1875 33.984375 37.640625 27.21875 \nQ 31.109375 20.453125 19.1875 8.296875 \nz\n\" id=\"DejaVuSans-50\"/>\n    </defs>\n    <g style=\"fill:#ffffff;\" transform=\"translate(243.896875 176.838594)scale(0.1 -0.1)\">\n     <use xlink:href=\"#DejaVuSans-50\"/>\n    </g>\n   </g>\n   <g id=\"text_12\">\n    <!-- 3 -->\n    <defs>\n     <path d=\"M 40.578125 39.3125 \nQ 47.65625 37.796875 51.625 33 \nQ 55.609375 28.21875 55.609375 21.1875 \nQ 55.609375 10.40625 48.1875 4.484375 \nQ 40.765625 -1.421875 27.09375 -1.421875 \nQ 22.515625 -1.421875 17.65625 -0.515625 \nQ 12.796875 0.390625 7.625 2.203125 \nL 7.625 11.71875 \nQ 11.71875 9.328125 16.59375 8.109375 \nQ 21.484375 6.890625 26.8125 6.890625 \nQ 36.078125 6.890625 40.9375 10.546875 \nQ 45.796875 14.203125 45.796875 21.1875 \nQ 45.796875 27.640625 41.28125 31.265625 \nQ 36.765625 34.90625 28.71875 34.90625 \nL 20.21875 34.90625 \nL 20.21875 43.015625 \nL 29.109375 43.015625 \nQ 36.375 43.015625 40.234375 45.921875 \nQ 44.09375 48.828125 44.09375 54.296875 \nQ 44.09375 59.90625 40.109375 62.90625 \nQ 36.140625 65.921875 28.71875 65.921875 \nQ 24.65625 65.921875 20.015625 65.03125 \nQ 15.375 64.15625 9.8125 62.3125 \nL 9.8125 71.09375 \nQ 15.4375 72.65625 20.34375 73.4375 \nQ 25.25 74.21875 29.59375 74.21875 \nQ 40.828125 74.21875 47.359375 69.109375 \nQ 53.90625 64.015625 53.90625 55.328125 \nQ 53.90625 49.265625 50.4375 45.09375 \nQ 46.96875 40.921875 40.578125 39.3125 \nz\n\" id=\"DejaVuSans-51\"/>\n    </defs>\n    <g style=\"fill:#262626;\" transform=\"translate(392.696875 176.838594)scale(0.1 -0.1)\">\n     <use xlink:href=\"#DejaVuSans-51\"/>\n    </g>\n   </g>\n   <g id=\"text_13\">\n    <!-- 0 -->\n    <g style=\"fill:#ffffff;\" transform=\"translate(95.096875 285.558594)scale(0.1 -0.1)\">\n     <use xlink:href=\"#DejaVuSans-48\"/>\n    </g>\n   </g>\n   <g id=\"text_14\">\n    <!-- 0 -->\n    <g style=\"fill:#ffffff;\" transform=\"translate(243.896875 285.558594)scale(0.1 -0.1)\">\n     <use xlink:href=\"#DejaVuSans-48\"/>\n    </g>\n   </g>\n   <g id=\"text_15\">\n    <!-- 0 -->\n    <g style=\"fill:#ffffff;\" transform=\"translate(392.696875 285.558594)scale(0.1 -0.1)\">\n     <use xlink:href=\"#DejaVuSans-48\"/>\n    </g>\n   </g>\n  </g>\n  <g id=\"axes_2\">\n   <g id=\"patch_3\">\n    <path clip-path=\"url(#pf25b97436c)\" d=\"M 498.178125 337.159219 \nL 498.178125 335.885156 \nL 498.178125 12.273281 \nL 498.178125 10.999219 \nL 514.486125 10.999219 \nL 514.486125 12.273281 \nL 514.486125 335.885156 \nL 514.486125 337.159219 \nz\n\" style=\"fill:#e5e5e5;stroke:#e5e5e5;stroke-linejoin:miter;stroke-width:0.01;\"/>\n   </g>\n   <g id=\"matplotlib.axis_3\"/>\n   <g id=\"matplotlib.axis_4\">\n    <g id=\"ytick_4\">\n     <g id=\"line2d_7\">\n      <defs>\n       <path d=\"M 0 0 \nL 3.5 0 \n\" id=\"m6db574caf4\" style=\"stroke:#555555;stroke-width:0.8;\"/>\n      </defs>\n      <g>\n       <use style=\"fill:#555555;stroke:#555555;stroke-width:0.8;\" x=\"514.486125\" xlink:href=\"#m6db574caf4\" y=\"337.159219\"/>\n      </g>\n     </g>\n     <g id=\"text_16\">\n      <!-- 0.0 -->\n      <defs>\n       <path d=\"M 10.6875 12.40625 \nL 21 12.40625 \nL 21 0 \nL 10.6875 0 \nz\n\" id=\"DejaVuSans-46\"/>\n      </defs>\n      <g style=\"fill:#555555;\" transform=\"translate(521.486125 340.958438)scale(0.1 -0.1)\">\n       <use xlink:href=\"#DejaVuSans-48\"/>\n       <use x=\"63.623047\" xlink:href=\"#DejaVuSans-46\"/>\n       <use x=\"95.410156\" xlink:href=\"#DejaVuSans-48\"/>\n      </g>\n     </g>\n    </g>\n    <g id=\"ytick_5\">\n     <g id=\"line2d_8\">\n      <g>\n       <use style=\"fill:#555555;stroke:#555555;stroke-width:0.8;\" x=\"514.486125\" xlink:href=\"#m6db574caf4\" y=\"282.799219\"/>\n      </g>\n     </g>\n     <g id=\"text_17\">\n      <!-- 0.5 -->\n      <defs>\n       <path d=\"M 10.796875 72.90625 \nL 49.515625 72.90625 \nL 49.515625 64.59375 \nL 19.828125 64.59375 \nL 19.828125 46.734375 \nQ 21.96875 47.46875 24.109375 47.828125 \nQ 26.265625 48.1875 28.421875 48.1875 \nQ 40.625 48.1875 47.75 41.5 \nQ 54.890625 34.8125 54.890625 23.390625 \nQ 54.890625 11.625 47.5625 5.09375 \nQ 40.234375 -1.421875 26.90625 -1.421875 \nQ 22.3125 -1.421875 17.546875 -0.640625 \nQ 12.796875 0.140625 7.71875 1.703125 \nL 7.71875 11.625 \nQ 12.109375 9.234375 16.796875 8.0625 \nQ 21.484375 6.890625 26.703125 6.890625 \nQ 35.15625 6.890625 40.078125 11.328125 \nQ 45.015625 15.765625 45.015625 23.390625 \nQ 45.015625 31 40.078125 35.4375 \nQ 35.15625 39.890625 26.703125 39.890625 \nQ 22.75 39.890625 18.8125 39.015625 \nQ 14.890625 38.140625 10.796875 36.28125 \nz\n\" id=\"DejaVuSans-53\"/>\n      </defs>\n      <g style=\"fill:#555555;\" transform=\"translate(521.486125 286.598437)scale(0.1 -0.1)\">\n       <use xlink:href=\"#DejaVuSans-48\"/>\n       <use x=\"63.623047\" xlink:href=\"#DejaVuSans-46\"/>\n       <use x=\"95.410156\" xlink:href=\"#DejaVuSans-53\"/>\n      </g>\n     </g>\n    </g>\n    <g id=\"ytick_6\">\n     <g id=\"line2d_9\">\n      <g>\n       <use style=\"fill:#555555;stroke:#555555;stroke-width:0.8;\" x=\"514.486125\" xlink:href=\"#m6db574caf4\" y=\"228.439219\"/>\n      </g>\n     </g>\n     <g id=\"text_18\">\n      <!-- 1.0 -->\n      <g style=\"fill:#555555;\" transform=\"translate(521.486125 232.238438)scale(0.1 -0.1)\">\n       <use xlink:href=\"#DejaVuSans-49\"/>\n       <use x=\"63.623047\" xlink:href=\"#DejaVuSans-46\"/>\n       <use x=\"95.410156\" xlink:href=\"#DejaVuSans-48\"/>\n      </g>\n     </g>\n    </g>\n    <g id=\"ytick_7\">\n     <g id=\"line2d_10\">\n      <g>\n       <use style=\"fill:#555555;stroke:#555555;stroke-width:0.8;\" x=\"514.486125\" xlink:href=\"#m6db574caf4\" y=\"174.079219\"/>\n      </g>\n     </g>\n     <g id=\"text_19\">\n      <!-- 1.5 -->\n      <g style=\"fill:#555555;\" transform=\"translate(521.486125 177.878438)scale(0.1 -0.1)\">\n       <use xlink:href=\"#DejaVuSans-49\"/>\n       <use x=\"63.623047\" xlink:href=\"#DejaVuSans-46\"/>\n       <use x=\"95.410156\" xlink:href=\"#DejaVuSans-53\"/>\n      </g>\n     </g>\n    </g>\n    <g id=\"ytick_8\">\n     <g id=\"line2d_11\">\n      <g>\n       <use style=\"fill:#555555;stroke:#555555;stroke-width:0.8;\" x=\"514.486125\" xlink:href=\"#m6db574caf4\" y=\"119.719219\"/>\n      </g>\n     </g>\n     <g id=\"text_20\">\n      <!-- 2.0 -->\n      <g style=\"fill:#555555;\" transform=\"translate(521.486125 123.518438)scale(0.1 -0.1)\">\n       <use xlink:href=\"#DejaVuSans-50\"/>\n       <use x=\"63.623047\" xlink:href=\"#DejaVuSans-46\"/>\n       <use x=\"95.410156\" xlink:href=\"#DejaVuSans-48\"/>\n      </g>\n     </g>\n    </g>\n    <g id=\"ytick_9\">\n     <g id=\"line2d_12\">\n      <g>\n       <use style=\"fill:#555555;stroke:#555555;stroke-width:0.8;\" x=\"514.486125\" xlink:href=\"#m6db574caf4\" y=\"65.359219\"/>\n      </g>\n     </g>\n     <g id=\"text_21\">\n      <!-- 2.5 -->\n      <g style=\"fill:#555555;\" transform=\"translate(521.486125 69.158438)scale(0.1 -0.1)\">\n       <use xlink:href=\"#DejaVuSans-50\"/>\n       <use x=\"63.623047\" xlink:href=\"#DejaVuSans-46\"/>\n       <use x=\"95.410156\" xlink:href=\"#DejaVuSans-53\"/>\n      </g>\n     </g>\n    </g>\n    <g id=\"ytick_10\">\n     <g id=\"line2d_13\">\n      <g>\n       <use style=\"fill:#555555;stroke:#555555;stroke-width:0.8;\" x=\"514.486125\" xlink:href=\"#m6db574caf4\" y=\"10.999219\"/>\n      </g>\n     </g>\n     <g id=\"text_22\">\n      <!-- 3.0 -->\n      <g style=\"fill:#555555;\" transform=\"translate(521.486125 14.798438)scale(0.1 -0.1)\">\n       <use xlink:href=\"#DejaVuSans-51\"/>\n       <use x=\"63.623047\" xlink:href=\"#DejaVuSans-46\"/>\n       <use x=\"95.410156\" xlink:href=\"#DejaVuSans-48\"/>\n      </g>\n     </g>\n    </g>\n   </g>\n   <image height=\"326\" id=\"image6de8e052a1\" transform=\"scale(1 -1)translate(0 -326)\" width=\"16\" x=\"498\" xlink:href=\"data:image/png;base64,\niVBORw0KGgoAAAANSUhEUgAAABAAAAFGCAYAAABjUx8/AAAABHNCSVQICAgIfAhkiAAAAbtJREFUeJztmtENw0AIQ6G5LtH990yHeJbsQ9x/LPMwJGnTz/f3FjinydVVdbqZhECgmMAHXV2KEj73M+AlYIiQAXawECMg0lnwd0EQJHcbFQ4YhhFBGrDWF6K/BP8+mLDSAoJkZ4AdUAHFWocC949zwisPjrKdAVVYiAqICTuRnYQnVS7AzgQG9htLwDQKumB2EADRnsSAJ1V7DiJWGhRI6AI7M5LITgID9C/TFIhYwP6AAQUEEGmQJjDAAgtRsFDcKy2AwQYpgwGzgEsISCKH+DIIIxjcH6TGJVAHgjYOSCLugp0BnKaAJDZ8RFFAhAwEP4lSBwMg4igvA8wAlyC4N8LbswAid+CGyJMIPQQwmBAkKKD4AoIKcAbUQUASsYAZImdQ/o3kFhBAdJeAHQQMkwAi/IcjAaK5hFPUAS0hYBpHMMBBcn/YRh1EQGQmNolVp+CdZUKQ2h4k2oUAiP5pHADRnkTFK489Bxii/VtdwTDZuxAwjZABf1+4n4F9mLCDiJVmF9iVNmIa/UkcANHNYFfajCB1P2YHG6SMINEcLMSEYXJ3IWIazVGOWOs7jfYc+NsYkET7OGMGf87ULkujjXFMAAAAAElFTkSuQmCC\" y=\"-11\"/>\n   <g id=\"patch_4\">\n    <path d=\"M 498.178125 337.159219 \nL 498.178125 335.885156 \nL 498.178125 12.273281 \nL 498.178125 10.999219 \nL 514.486125 10.999219 \nL 514.486125 12.273281 \nL 514.486125 335.885156 \nL 514.486125 337.159219 \nz\n\" style=\"fill:none;\"/>\n   </g>\n  </g>\n </g>\n <defs>\n  <clipPath id=\"p0d8b3cbaf4\">\n   <rect height=\"326.16\" width=\"446.4\" x=\"23.878125\" y=\"10.999219\"/>\n  </clipPath>\n  <clipPath id=\"pf25b97436c\">\n   <rect height=\"326.16\" width=\"16.308\" x=\"498.178125\" y=\"10.999219\"/>\n  </clipPath>\n </defs>\n</svg>\n"
          },
          "metadata": {
            "tags": []
          }
        }
      ]
    },
    {
      "cell_type": "code",
      "metadata": {
        "id": "JQ7f10HesIfW",
        "colab_type": "code",
        "colab": {
          "base_uri": "https://localhost:8080/",
          "height": 34
        },
        "outputId": "457c7f64-a660-4f69-de97-c5e3b9ae00c1"
      },
      "source": [
        "f1_score(y_val, predictions, average = 'weighted')"
      ],
      "execution_count": null,
      "outputs": [
        {
          "output_type": "execute_result",
          "data": {
            "text/plain": [
              "0.4166666666666667"
            ]
          },
          "metadata": {
            "tags": []
          },
          "execution_count": 25
        }
      ]
    },
    {
      "cell_type": "code",
      "metadata": {
        "id": "m7KCppElsP5c",
        "colab_type": "code",
        "colab": {
          "base_uri": "https://localhost:8080/",
          "height": 34
        },
        "outputId": "e2aec435-1f6c-4cc6-fe64-7f9da114486a"
      },
      "source": [
        "naive_classifier = MultinomialNB(alpha = 0.0001, fit_prior = False)\n",
        "naive_classifier.fit(X_train, y_train)\n",
        "predictions = naive_classifier.predict(X_val)\n",
        "confusion_matrix(y_val, predictions, ['sk', 'cs', 'en'])\n",
        "f1_score(y_val, predictions, average = 'weighted')"
      ],
      "execution_count": null,
      "outputs": [
        {
          "output_type": "execute_result",
          "data": {
            "text/plain": [
              "0.4166666666666667"
            ]
          },
          "metadata": {
            "tags": []
          },
          "execution_count": 26
        }
      ]
    },
    {
      "cell_type": "code",
      "metadata": {
        "id": "nTk2M6X2s4LY",
        "colab_type": "code",
        "colab": {}
      },
      "source": [
        "import re, collections\n",
        "def get_stats(vocab):\n",
        "  pairs = collections.defaultdict(int)\n",
        "  for word, freq in vocab.items():\n",
        "    symbols = word.split()\n",
        "    for i in range(len(symbols)-1):\n",
        "      pairs[symbols[i], symbols[i+1]] += freq\n",
        "  return pairs"
      ],
      "execution_count": null,
      "outputs": []
    },
    {
      "cell_type": "code",
      "metadata": {
        "id": "tKF4Je6OtVy-",
        "colab_type": "code",
        "colab": {}
      },
      "source": [
        "def merge_vocab(pair, v_in):\n",
        "  v_out = {}\n",
        "  bigram = re.escape(' '.join(pair))\n",
        "  p = re.compile(r'(?<!\\S)' + bigram + r'(?!\\S)')\n",
        "  for word in v_in:\n",
        "    w_out = p.sub(''.join(pair), word)\n",
        "    v_out[w_out] = v_in[word]\n",
        "  return v_out"
      ],
      "execution_count": null,
      "outputs": []
    },
    {
      "cell_type": "code",
      "metadata": {
        "id": "82A7DfQvt9bd",
        "colab_type": "code",
        "colab": {}
      },
      "source": [
        "def get_vocab(data):\n",
        "  words = []\n",
        "  for sentence in data:\n",
        "    words.extend(sentence.split())\n",
        "  vocab = defaultdict(int)\n",
        "  for word in words:\n",
        "    vocab[' '.join(word)] += 1\n",
        "  return vocab"
      ],
      "execution_count": null,
      "outputs": []
    },
    {
      "cell_type": "code",
      "metadata": {
        "id": "D1vb2zQ0ubnS",
        "colab_type": "code",
        "colab": {}
      },
      "source": [
        "vocab = get_vocab(sentences_train)\n",
        "for i in range(100):\n",
        "  pairs = get_stats(vocab)\n",
        "  best = max(pairs, key = pairs.get)\n",
        "  vocab = merge_vocab(best, vocab)"
      ],
      "execution_count": null,
      "outputs": []
    },
    {
      "cell_type": "code",
      "metadata": {
        "id": "DkL-qKc_uYXA",
        "colab_type": "code",
        "colab": {}
      },
      "source": [
        "merges = defaultdict(int)\n",
        "for k, v in vocab.items():\n",
        "  for subword in k.split():\n",
        "    if len(subword) >= 2:\n",
        "      merges[subword] += v"
      ],
      "execution_count": null,
      "outputs": []
    },
    {
      "cell_type": "code",
      "metadata": {
        "id": "ucuL8nB5ubu-",
        "colab_type": "code",
        "colab": {}
      },
      "source": [
        "merge_ordered = sorted(merges, key = merges.get, reverse = True)"
      ],
      "execution_count": null,
      "outputs": []
    },
    {
      "cell_type": "code",
      "metadata": {
        "id": "vKA95zKSvglo",
        "colab_type": "code",
        "colab": {}
      },
      "source": [
        "pkl.dump(merge_ordered, open('merge_ordered.pkl', 'wb'))"
      ],
      "execution_count": null,
      "outputs": []
    },
    {
      "cell_type": "code",
      "metadata": {
        "id": "HgSVBoG6xM_7",
        "colab_type": "code",
        "colab": {}
      },
      "source": [
        "def split_into_subwords(text):\n",
        "  merges = pkl.load(open('merge_ordered.pkl', 'rb'))\n",
        "  subwords = []\n",
        "  for word in text.split():\n",
        "    for subword in merges:\n",
        "      subword_count = word.count(subword)\n",
        "      if subword_count > 0:\n",
        "        word = word.replace(subword, ' ')\n",
        "        subwords.extend([subword]*subword_count)\n",
        "  return ' '.join(subwords)"
      ],
      "execution_count": null,
      "outputs": []
    },
    {
      "cell_type": "code",
      "metadata": {
        "id": "sCPIjs_4BFc2",
        "colab_type": "code",
        "colab": {
          "base_uri": "https://localhost:8080/",
          "height": 35
        },
        "outputId": "541c07e0-8c0a-4fec-98d4-831bcdaf85a0"
      },
      "source": [
        "split_into_subwords('hello my name is ari')"
      ],
      "execution_count": null,
      "outputs": [
        {
          "output_type": "execute_result",
          "data": {
            "application/vnd.google.colaboratory.intrinsic": {
              "type": "string"
            },
            "text/plain": [
              "'lo na ri'"
            ]
          },
          "metadata": {
            "tags": []
          },
          "execution_count": 36
        }
      ]
    },
    {
      "cell_type": "code",
      "metadata": {
        "id": "Ni8o3UGSBTf2",
        "colab_type": "code",
        "colab": {}
      },
      "source": [
        "data_preprocessed_subwords = {k : [split_into_subwords(sentence) for sentence in v] for k, v in data_preprocessed.items()}"
      ],
      "execution_count": null,
      "outputs": []
    },
    {
      "cell_type": "code",
      "metadata": {
        "id": "A5YnN_yiBm5m",
        "colab_type": "code",
        "colab": {
          "base_uri": "https://localhost:8080/",
          "height": 374
        },
        "outputId": "34e86e19-45cd-4fdf-e0a3-4d490a36cb3b"
      },
      "source": [
        "show_statistics(data_preprocessed_subwords)"
      ],
      "execution_count": null,
      "outputs": [
        {
          "output_type": "stream",
          "text": [
            "Language : sk\n",
            "-----------------------\n",
            "Number of Sentences\t:\t 1\n",
            "Number of words\t\t:\t 118\n",
            "Number of Unique Words\t:\t 45\n",
            "Number of Sample Extract\t:\t no ue ud ia to vi ia.......\n",
            "\n",
            "Language : cs\n",
            "-----------------------\n",
            "Number of Sentences\t:\t 1\n",
            "Number of words\t\t:\t 123\n",
            "Number of Unique Words\t:\t 39\n",
            "Number of Sample Extract\t:\t ub ã­ ã­ ch ps ch ob.......\n",
            "\n",
            "Language : en\n",
            "-----------------------\n",
            "Number of Sentences\t:\t 1\n",
            "Number of words\t\t:\t 89\n",
            "Number of Unique Words\t:\t 35\n",
            "Number of Sample Extract\t:\t le hi si la in the ho.......\n",
            "\n"
          ],
          "name": "stdout"
        }
      ]
    },
    {
      "cell_type": "code",
      "metadata": {
        "id": "-l1Lr95wBuQE",
        "colab_type": "code",
        "colab": {}
      },
      "source": [
        "data_train_subwords = []\n",
        "\n",
        "for sentence in sentences_train:\n",
        "  data_train_subwords.append(split_into_subwords(sentence))\n",
        "\n",
        "data_val_subwords = []\n",
        "\n",
        "for sentence in sentences_val:\n",
        "  data_val_subwords.append(split_into_subwords(sentence))"
      ],
      "execution_count": null,
      "outputs": []
    },
    {
      "cell_type": "code",
      "metadata": {
        "id": "SFdIz8MtCMmf",
        "colab_type": "code",
        "colab": {}
      },
      "source": [
        "vectorizer = CountVectorizer()"
      ],
      "execution_count": null,
      "outputs": []
    },
    {
      "cell_type": "code",
      "metadata": {
        "id": "KtShwONBCRfK",
        "colab_type": "code",
        "colab": {}
      },
      "source": [
        "X_train = vectorizer.fit_transform(data_train_subwords)\n",
        "X_val = vectorizer.transform(data_val_subwords)\n"
      ],
      "execution_count": null,
      "outputs": []
    },
    {
      "cell_type": "code",
      "metadata": {
        "id": "UycuVOakE-Et",
        "colab_type": "code",
        "colab": {
          "base_uri": "https://localhost:8080/",
          "height": 34
        },
        "outputId": "be81c621-4d58-4602-9bbf-344af47fde4b"
      },
      "source": [
        "naive_classifier = MultinomialNB(alpha = 1.0, fit_prior = False)\n",
        "naive_classifier.fit(X_train, y_train)\n",
        "predictions = naive_classifier.predict(X_val)\n",
        "confusion_matrix(y_val, predictions, ['sk', 'cs', 'en'])\n",
        "f1_score(y_val, predictions, average = 'weighted')"
      ],
      "execution_count": null,
      "outputs": [
        {
          "output_type": "execute_result",
          "data": {
            "text/plain": [
              "0.6428571428571429"
            ]
          },
          "metadata": {
            "tags": []
          },
          "execution_count": 52
        }
      ]
    },
    {
      "cell_type": "code",
      "metadata": {
        "id": "PMQXy4R8FZcZ",
        "colab_type": "code",
        "colab": {
          "base_uri": "https://localhost:8080/",
          "height": 34
        },
        "outputId": "cb054d1b-449d-47e1-b6fb-e04cde0fbeba"
      },
      "source": [
        "joblib.dump(naive_classifier, 'final_model1.joblib')"
      ],
      "execution_count": null,
      "outputs": [
        {
          "output_type": "execute_result",
          "data": {
            "text/plain": [
              "['final_model1.joblib']"
            ]
          },
          "metadata": {
            "tags": []
          },
          "execution_count": 56
        }
      ]
    },
    {
      "cell_type": "code",
      "metadata": {
        "id": "E7RpaKPBNvrs",
        "colab_type": "code",
        "colab": {
          "base_uri": "https://localhost:8080/",
          "height": 34
        },
        "outputId": "8a8d34c0-17b6-4cd1-8e30-366f06062d60"
      },
      "source": [
        "joblib.dump(vectorizer, 'final_model2.joblib')\n"
      ],
      "execution_count": null,
      "outputs": [
        {
          "output_type": "execute_result",
          "data": {
            "text/plain": [
              "['final_model2.joblib']"
            ]
          },
          "metadata": {
            "tags": []
          },
          "execution_count": 57
        }
      ]
    },
    {
      "cell_type": "code",
      "metadata": {
        "id": "R5mvFe5_F5SH",
        "colab_type": "code",
        "colab": {
          "base_uri": "https://localhost:8080/",
          "height": 34
        },
        "outputId": "da941f39-96fd-4e6d-9bb1-eaec11cfe617"
      },
      "source": [
        "model = joblib.load('final_model1.joblib')\n",
        "vectorizer = joblib.load('final_model2.joblib')\n",
        "\n",
        "text = 'I am Vipul'\n",
        "text = preprocess(text)\n",
        "text = [split_into_subwords(text)]\n",
        "text_vectorized = vectorizer.transform(text)\n",
        "model.predict(text_vectorized)"
      ],
      "execution_count": null,
      "outputs": [
        {
          "output_type": "execute_result",
          "data": {
            "text/plain": [
              "array(['sk'], dtype='<U2')"
            ]
          },
          "metadata": {
            "tags": []
          },
          "execution_count": 58
        }
      ]
    },
    {
      "cell_type": "code",
      "metadata": {
        "id": "qGzOe9JaG4sH",
        "colab_type": "code",
        "colab": {}
      },
      "source": [
        ""
      ],
      "execution_count": null,
      "outputs": []
    }
  ]
}